{
 "cells": [
  {
   "cell_type": "code",
   "execution_count": 1,
   "metadata": {
    "collapsed": true
   },
   "outputs": [],
   "source": [
    "%matplotlib inline\n",
    "import matplotlib.pyplot as plt\n",
    "import numpy as np\n",
    "import pandas as pd\n",
    "import pandas_ml as pdml\n",
    "import pyodbc\n",
    "\n",
    "from sklearn.preprocessing import StandardScaler\n",
    "from sklearn.cluster import KMeans\n",
    "from sklearn.model_selection import train_test_split, cross_val_score\n",
    "from sklearn.ensemble import RandomForestClassifier, IsolationForest, BaggingClassifier\n",
    "from sklearn.ensemble import AdaBoostClassifier, ExtraTreesClassifier, GradientBoostingClassifier\n",
    "from sklearn.metrics import accuracy_score, roc_curve, roc_auc_score, average_precision_score, recall_score \n",
    "from sklearn.metrics import auc, precision_score, confusion_matrix, f1_score, precision_recall_curve\n",
    "from sklearn.linear_model import LogisticRegression\n",
    "from sklearn.discriminant_analysis import LinearDiscriminantAnalysis\n",
    "from sklearn.feature_selection import SelectFromModel\n",
    "from sklearn.model_selection import GridSearchCV"
   ]
  },
  {
   "cell_type": "markdown",
   "metadata": {},
   "source": [
    "[QGrid](https://github.com/quantopian/qgrid)"
   ]
  },
  {
   "cell_type": "code",
   "execution_count": 2,
   "metadata": {
    "collapsed": true
   },
   "outputs": [],
   "source": [
    "cnxn = pyodbc.connect(DSN='BGI40PROD')\n",
    "\n",
    "cursor = cnxn.cursor()"
   ]
  },
  {
   "cell_type": "code",
   "execution_count": 3,
   "metadata": {
    "collapsed": true
   },
   "outputs": [],
   "source": [
    "sql = \"\"\"select\tCONSTITUENTSYSTEMID\n",
    "        ,CONSTITUENTLOOKUPID\n",
    "\t\t,SORTNAMESHORT\n",
    "\t\t,CONSTITUENTAGE\n",
    "from uif.v_DIM_CONSTITUENT\n",
    "where ISINDIVIDUAL = 1 and ISDECEASED = 0 and ISACTIVE = 1\"\"\""
   ]
  },
  {
   "cell_type": "code",
   "execution_count": 4,
   "metadata": {
    "collapsed": true
   },
   "outputs": [],
   "source": [
    "app = pd.read_sql(sql, con=cnxn)"
   ]
  },
  {
   "cell_type": "code",
   "execution_count": 5,
   "metadata": {},
   "outputs": [
    {
     "data": {
      "text/html": [
       "<div>\n",
       "<style scoped>\n",
       "    .dataframe tbody tr th:only-of-type {\n",
       "        vertical-align: middle;\n",
       "    }\n",
       "\n",
       "    .dataframe tbody tr th {\n",
       "        vertical-align: top;\n",
       "    }\n",
       "\n",
       "    .dataframe thead th {\n",
       "        text-align: right;\n",
       "    }\n",
       "</style>\n",
       "<table border=\"1\" class=\"dataframe\">\n",
       "  <thead>\n",
       "    <tr style=\"text-align: right;\">\n",
       "      <th></th>\n",
       "      <th>CONSTITUENTSYSTEMID</th>\n",
       "      <th>CONSTITUENTLOOKUPID</th>\n",
       "      <th>SORTNAMESHORT</th>\n",
       "      <th>CONSTITUENTAGE</th>\n",
       "    </tr>\n",
       "  </thead>\n",
       "  <tbody>\n",
       "    <tr>\n",
       "      <th>0</th>\n",
       "      <td>C2965E11-C008-4FF2-B017-209BEFD4C783</td>\n",
       "      <td>0343858</td>\n",
       "      <td>Heimer, David</td>\n",
       "      <td>63</td>\n",
       "    </tr>\n",
       "    <tr>\n",
       "      <th>1</th>\n",
       "      <td>273ECF10-CA71-4C80-8111-209D7DA58A3A</td>\n",
       "      <td>0294513</td>\n",
       "      <td>Miers, Shirley</td>\n",
       "      <td>71</td>\n",
       "    </tr>\n",
       "    <tr>\n",
       "      <th>2</th>\n",
       "      <td>9A9DC251-C788-4F3E-AEDE-209DDAFA8526</td>\n",
       "      <td>0727383</td>\n",
       "      <td>Hodson, Megan</td>\n",
       "      <td>28</td>\n",
       "    </tr>\n",
       "    <tr>\n",
       "      <th>3</th>\n",
       "      <td>EA62AA86-4FE8-456D-86E4-209DFF035330</td>\n",
       "      <td>1183764</td>\n",
       "      <td>McMillan, John</td>\n",
       "      <td>0</td>\n",
       "    </tr>\n",
       "    <tr>\n",
       "      <th>4</th>\n",
       "      <td>63B47CDA-AC8D-4B0B-942D-209E34BA6F71</td>\n",
       "      <td>0278068</td>\n",
       "      <td>Thomas, Loretta</td>\n",
       "      <td>83</td>\n",
       "    </tr>\n",
       "  </tbody>\n",
       "</table>\n",
       "</div>"
      ],
      "text/plain": [
       "                    CONSTITUENTSYSTEMID CONSTITUENTLOOKUPID    SORTNAMESHORT  \\\n",
       "0  C2965E11-C008-4FF2-B017-209BEFD4C783             0343858    Heimer, David   \n",
       "1  273ECF10-CA71-4C80-8111-209D7DA58A3A             0294513   Miers, Shirley   \n",
       "2  9A9DC251-C788-4F3E-AEDE-209DDAFA8526             0727383    Hodson, Megan   \n",
       "3  EA62AA86-4FE8-456D-86E4-209DFF035330             1183764   McMillan, John   \n",
       "4  63B47CDA-AC8D-4B0B-942D-209E34BA6F71             0278068  Thomas, Loretta   \n",
       "\n",
       "   CONSTITUENTAGE  \n",
       "0              63  \n",
       "1              71  \n",
       "2              28  \n",
       "3               0  \n",
       "4              83  "
      ]
     },
     "execution_count": 5,
     "metadata": {},
     "output_type": "execute_result"
    }
   ],
   "source": [
    "app.head()"
   ]
  },
  {
   "cell_type": "code",
   "execution_count": null,
   "metadata": {
    "collapsed": true
   },
   "outputs": [],
   "source": [
    "# pandas_ml confusion matrix: http://pandas-ml.readthedocs.io/en/latest/conf_mat.html"
   ]
  },
  {
   "cell_type": "code",
   "execution_count": 5,
   "metadata": {
    "collapsed": true
   },
   "outputs": [],
   "source": [
    "df = pd.read_csv(\"//uiffs01/dataanalytics/LawAffinityPG/lawdata_new1.csv\")\n",
    "\n",
    "df.fillna(0, inplace=True)  # we should do a better job of cleaning than this..."
   ]
  },
  {
   "cell_type": "code",
   "execution_count": 11,
   "metadata": {},
   "outputs": [
    {
     "data": {
      "text/plain": [
       "['CONSTITUENTSYSTEMID',\n",
       " 'HAS_PLANNED_GIFT',\n",
       " 'LWG_DONOR',\n",
       " 'LAW_GRAD',\n",
       " 'LAW_GRAD_LWG_DONOR',\n",
       " 'GRANDPARENT_LAW_GRAD',\n",
       " 'PARENT_LAW_GRAD',\n",
       " 'LEGACY_GRAD',\n",
       " 'AFFIN_BOARD_MEMBERSHIP',\n",
       " 'AFFIN_EMPLOYEE',\n",
       " 'AFFIN_EMPLOYEE_RELATIONSHIP',\n",
       " 'AFFIN_EVENT_REGISTRANT',\n",
       " 'AFFIN_FAMILY_RELATIONSHIP',\n",
       " 'AFFIN_GRATEFUL_PATIENT',\n",
       " 'HAS_EMAIL',\n",
       " 'AFFIN_IMMEDIATE_FAMILY',\n",
       " 'MULTIPLE_DEGREE',\n",
       " 'SCHOLARSHIP_RECIPIENT',\n",
       " 'AFFIN_STUDENT_ENGAGEMENT',\n",
       " 'AFFIN_UI_UIF_VOLUNTEER',\n",
       " 'AFFIN_UI_RETIREE',\n",
       " 'LAW_VOLUNTEER',\n",
       " 'LAW_STUDENT_INVOLVEMENT',\n",
       " 'LAW_SOLICITATION_RESPONDENT',\n",
       " 'LWG_GIFTYEARSCOUNT_BEFORE_PG',\n",
       " 'CLASS_GIFT_DONOR',\n",
       " 'RESIDENCE_COUNT_EVER',\n",
       " 'IOWA_RESIDENCE_EVER',\n",
       " 'NON_IOWA_RESIDENCE_EVER',\n",
       " 'NON_IA_MIDWEST_RESIDENCE_EVER',\n",
       " 'SNOWBIRD_RESIDENCE_EVER',\n",
       " 'ISDECEASED',\n",
       " 'SPOUSEDECEASED',\n",
       " 'HIGH_TITLE',\n",
       " 'STOCK_GIFT',\n",
       " 'STOCKHOLDER',\n",
       " 'PATRON',\n",
       " 'AMLAW_EVER',\n",
       " 'SPOUSE_GRAD',\n",
       " 'SPOUSE_LAW_GRAD',\n",
       " 'LWG_CONSECUTIVE_PRIOR_PG',\n",
       " 'NON_LWG_CONSECUTIVE_PRIOR_PG',\n",
       " 'NON_LWG_GIFTYEARSCOUNT_PRIOR_PG',\n",
       " 'LWG_SUM_BEFORE_PG',\n",
       " 'NON_LWG_SUM_BEFORE_PG',\n",
       " 'GRANDPARENT_LWG_DONOR',\n",
       " 'PARENT_LWG_DONOR',\n",
       " 'LEGACY_LWG_DONOR',\n",
       " 'PRE_PG_YEARS_WITH_CONTACT_REPORT',\n",
       " 'INVOLVEMENT_COUNT',\n",
       " 'INVOLVE_LAW_CAMPUS_EMPLOYMENT',\n",
       " 'INVOLVE_LAW_CAMPUS_PROGRAM',\n",
       " 'INVOLVE_LAW_GOVERNMENT',\n",
       " 'INVOLVE_LAW_HONOR_AWARD',\n",
       " 'INVOLVE_LAW_REVIEW',\n",
       " 'INVOLVE_LAW_PROFESSIONAL',\n",
       " 'INVOLVE_LAW_PUBLICATION',\n",
       " 'INVOLVEMENT_TYPE_COUNT',\n",
       " 'PG_AGE_DATE_DECADE_<20',\n",
       " 'PG_AGE_DATE_DECADE_20s',\n",
       " 'PG_AGE_DATE_DECADE_30s',\n",
       " 'PG_AGE_DATE_DECADE_40s',\n",
       " 'PG_AGE_DATE_DECADE_50s',\n",
       " 'PG_AGE_DATE_DECADE_60s',\n",
       " 'PG_AGE_DATE_DECADE_70s',\n",
       " 'PG_AGE_DATE_DECADE_80s',\n",
       " 'PG_AGE_DATE_DECADE_90s',\n",
       " 'PG_AGE_DATE_DECADE_>100',\n",
       " 'PG_AGE_DATE_DECADE_default',\n",
       " 'DEGREE_OTHER_INSTITUTION',\n",
       " 'GRADUATE_DEGREE',\n",
       " 'PRESENCE_OF_CHILDREN_F',\n",
       " 'PRESENCE_OF_CHILDREN_T',\n",
       " 'PRESENCE_OF_CHILDREN_U',\n",
       " 'LWG_SUM_PRIOR_PG_BIN']"
      ]
     },
     "execution_count": 11,
     "metadata": {},
     "output_type": "execute_result"
    }
   ],
   "source": [
    "list(df)"
   ]
  },
  {
   "cell_type": "code",
   "execution_count": 6,
   "metadata": {
    "collapsed": true
   },
   "outputs": [],
   "source": [
    "# helper function to create column of bin values from LWG_SUM_BEFORE_PG\n",
    "# https://community.modeanalytics.com/python/tutorial/defining-python-functions/\n",
    "def amount_bin (value):\n",
    "    if value == 0 :\n",
    "        return 'nonDonor'\n",
    "    elif 0 < value < 100 :\n",
    "        return 'donor_<100'\n",
    "    elif 100 <= value < 250 :\n",
    "        return 'donor_100-249'\n",
    "    elif 250 <= value < 500 :\n",
    "        return 'donor_250-499'\n",
    "    elif 500 <= value < 1000 :\n",
    "        return 'donor_500-999'\n",
    "    elif 1000 <= value < 5000 :\n",
    "        return 'donor_1000-4999'\n",
    "    elif 5000 <= value < 10000 :\n",
    "        return 'donor_5000-9999'\n",
    "    elif 10000 <= value < 25000 :\n",
    "        return 'donor_10000-24999'\n",
    "    elif 25000 <= value < 50000 :\n",
    "        return 'donor_25000-49999'\n",
    "    return 'donor_>50000'"
   ]
  },
  {
   "cell_type": "code",
   "execution_count": 7,
   "metadata": {
    "collapsed": true
   },
   "outputs": [],
   "source": [
    "df['LWG_SUM_PRIOR_PG_BIN'] = df['LWG_SUM_BEFORE_PG'].apply(amount_bin)"
   ]
  },
  {
   "cell_type": "code",
   "execution_count": null,
   "metadata": {},
   "outputs": [],
   "source": [
    "df[['CONSTITUENTSYSTEMID','LWG_SUM_BEFORE_PG','LWG_SUM_PRIOR_PG_BIN']].head(100)"
   ]
  },
  {
   "cell_type": "code",
   "execution_count": 9,
   "metadata": {},
   "outputs": [
    {
     "data": {
      "text/plain": [
       "<matplotlib.axes._subplots.AxesSubplot at 0x1abedf353c8>"
      ]
     },
     "execution_count": 9,
     "metadata": {},
     "output_type": "execute_result"
    },
    {
     "data": {
      "image/png": "[encoded data removed]",
      "text/plain": [
       "<matplotlib.figure.Figure at 0x1abedf35198>"
      ]
     },
     "metadata": {},
     "output_type": "display_data"
    }
   ],
   "source": [
    "df['LWG_SUM_PRIOR_PG_BIN'].value_counts().plot(kind='barh')"
   ]
  },
  {
   "cell_type": "code",
   "execution_count": 10,
   "metadata": {},
   "outputs": [
    {
     "data": {
      "text/plain": [
       "['CONSTITUENTSYSTEMID',\n",
       " 'HAS_PLANNED_GIFT',\n",
       " 'LWG_DONOR',\n",
       " 'LAW_GRAD',\n",
       " 'LAW_GRAD_LWG_DONOR',\n",
       " 'GRANDPARENT_LAW_GRAD',\n",
       " 'PARENT_LAW_GRAD',\n",
       " 'LEGACY_GRAD',\n",
       " 'AFFIN_BOARD_MEMBERSHIP',\n",
       " 'AFFIN_EMPLOYEE',\n",
       " 'AFFIN_EMPLOYEE_RELATIONSHIP',\n",
       " 'AFFIN_EVENT_REGISTRANT',\n",
       " 'AFFIN_FAMILY_RELATIONSHIP',\n",
       " 'AFFIN_GRATEFUL_PATIENT',\n",
       " 'HAS_EMAIL',\n",
       " 'AFFIN_IMMEDIATE_FAMILY',\n",
       " 'MULTIPLE_DEGREE',\n",
       " 'SCHOLARSHIP_RECIPIENT',\n",
       " 'AFFIN_STUDENT_ENGAGEMENT',\n",
       " 'AFFIN_UI_UIF_VOLUNTEER',\n",
       " 'AFFIN_UI_RETIREE',\n",
       " 'LAW_VOLUNTEER',\n",
       " 'LAW_STUDENT_INVOLVEMENT',\n",
       " 'LAW_SOLICITATION_RESPONDENT',\n",
       " 'LWG_GIFTYEARSCOUNT_BEFORE_PG',\n",
       " 'CLASS_GIFT_DONOR',\n",
       " 'RESIDENCE_COUNT_EVER',\n",
       " 'IOWA_RESIDENCE_EVER',\n",
       " 'NON_IOWA_RESIDENCE_EVER',\n",
       " 'NON_IA_MIDWEST_RESIDENCE_EVER',\n",
       " 'SNOWBIRD_RESIDENCE_EVER',\n",
       " 'ISDECEASED',\n",
       " 'SPOUSEDECEASED',\n",
       " 'HIGH_TITLE',\n",
       " 'STOCK_GIFT',\n",
       " 'STOCKHOLDER',\n",
       " 'PATRON',\n",
       " 'AMLAW_EVER',\n",
       " 'SPOUSE_GRAD',\n",
       " 'SPOUSE_LAW_GRAD',\n",
       " 'LWG_CONSECUTIVE_PRIOR_PG',\n",
       " 'NON_LWG_CONSECUTIVE_PRIOR_PG',\n",
       " 'NON_LWG_GIFTYEARSCOUNT_PRIOR_PG',\n",
       " 'LWG_SUM_BEFORE_PG',\n",
       " 'NON_LWG_SUM_BEFORE_PG',\n",
       " 'GRANDPARENT_LWG_DONOR',\n",
       " 'PARENT_LWG_DONOR',\n",
       " 'LEGACY_LWG_DONOR',\n",
       " 'PRE_PG_YEARS_WITH_CONTACT_REPORT',\n",
       " 'INVOLVEMENT_COUNT',\n",
       " 'INVOLVE_LAW_CAMPUS_EMPLOYMENT',\n",
       " 'INVOLVE_LAW_CAMPUS_PROGRAM',\n",
       " 'INVOLVE_LAW_GOVERNMENT',\n",
       " 'INVOLVE_LAW_HONOR_AWARD',\n",
       " 'INVOLVE_LAW_REVIEW',\n",
       " 'INVOLVE_LAW_PROFESSIONAL',\n",
       " 'INVOLVE_LAW_PUBLICATION',\n",
       " 'INVOLVEMENT_TYPE_COUNT',\n",
       " 'PG_AGE_DATE_DECADE_<20',\n",
       " 'PG_AGE_DATE_DECADE_20s',\n",
       " 'PG_AGE_DATE_DECADE_30s',\n",
       " 'PG_AGE_DATE_DECADE_40s',\n",
       " 'PG_AGE_DATE_DECADE_50s',\n",
       " 'PG_AGE_DATE_DECADE_60s',\n",
       " 'PG_AGE_DATE_DECADE_70s',\n",
       " 'PG_AGE_DATE_DECADE_80s',\n",
       " 'PG_AGE_DATE_DECADE_90s',\n",
       " 'PG_AGE_DATE_DECADE_>100',\n",
       " 'PG_AGE_DATE_DECADE_default',\n",
       " 'DEGREE_OTHER_INSTITUTION',\n",
       " 'GRADUATE_DEGREE',\n",
       " 'PRESENCE_OF_CHILDREN_F',\n",
       " 'PRESENCE_OF_CHILDREN_T',\n",
       " 'PRESENCE_OF_CHILDREN_U',\n",
       " 'LWG_SUM_PRIOR_PG_BIN']"
      ]
     },
     "execution_count": 10,
     "metadata": {},
     "output_type": "execute_result"
    }
   ],
   "source": [
    "list(df) # for the list of columns, or features, for selection in 'cols'"
   ]
  },
  {
   "cell_type": "code",
   "execution_count": null,
   "metadata": {
    "collapsed": true
   },
   "outputs": [],
   "source": [
    "cols = df.columns.tolist() # another (faster?) method for generating feature list"
   ]
  },
  {
   "cell_type": "markdown",
   "metadata": {},
   "source": [
    "[Dropping select columns from a dataframe](https://stackoverflow.com/a/37717675/8104811)"
   ]
  },
  {
   "cell_type": "code",
   "execution_count": null,
   "metadata": {
    "collapsed": true
   },
   "outputs": [],
   "source": [
    "cols1 = df.drop(['CONSTITUENTSYSTEMID', 'HAS_PLANNED_GIFT', 'HAS_EMAIL', 'ISDECEASED'], axis = 1)"
   ]
  },
  {
   "cell_type": "code",
   "execution_count": null,
   "metadata": {
    "collapsed": true
   },
   "outputs": [],
   "source": [
    "cols1.columns.tolist()"
   ]
  },
  {
   "cell_type": "markdown",
   "metadata": {},
   "source": [
    "[12 useful pandas techniques](https://www.analyticsvidhya.com/blog/2016/01/12-pandas-techniques-python-data-manipulation/)"
   ]
  },
  {
   "cell_type": "code",
   "execution_count": null,
   "metadata": {
    "collapsed": true
   },
   "outputs": [],
   "source": [
    "cols1.head()"
   ]
  },
  {
   "cell_type": "code",
   "execution_count": null,
   "metadata": {
    "collapsed": true
   },
   "outputs": [],
   "source": [
    "scaler = StandardScaler()\n",
    "\n",
    "X = cols1\n",
    "y = df.HAS_PLANNED_GIFT\n",
    "\n",
    "X.loc[:, ['LWG_GIFTYEARSCOUNT_BEFORE_PG',\n",
    "          'RESIDENCE_COUNT_EVER',\n",
    "          'LWG_CONSECUTIVE_PRIOR_PG',\n",
    "          'NON_LWG_CONSECUTIVE_PRIOR_PG',\n",
    "          'NON_LWG_GIFTYEARSCOUNT_PRIOR_PG',\n",
    "          'LWG_SUM_BEFORE_PG',\n",
    "          'NON_LWG_SUM_BEFORE_PG',\n",
    "          'PRE_PG_YEARS_WITH_CONTACT_REPORT',\n",
    "          'INVOLVEMENT_COUNT',\n",
    "          'INVOLVEMENT_TYPE_COUNT']] = \\\n",
    "scaler.fit_transform(X.loc[:, ['LWG_GIFTYEARSCOUNT_BEFORE_PG',\n",
    "          'RESIDENCE_COUNT_EVER',\n",
    "          'LWG_CONSECUTIVE_PRIOR_PG',\n",
    "          'NON_LWG_CONSECUTIVE_PRIOR_PG',\n",
    "          'NON_LWG_GIFTYEARSCOUNT_PRIOR_PG',\n",
    "          'LWG_SUM_BEFORE_PG',\n",
    "          'NON_LWG_SUM_BEFORE_PG',\n",
    "          'PRE_PG_YEARS_WITH_CONTACT_REPORT',\n",
    "          'INVOLVEMENT_COUNT',\n",
    "          'INVOLVEMENT_TYPE_COUNT']])\n",
    "\n",
    "\n",
    "X_train, X_test, y_train, y_test = train_test_split(X.values, y.values, test_size=0.33, random_state=42)"
   ]
  },
  {
   "cell_type": "code",
   "execution_count": null,
   "metadata": {
    "collapsed": true
   },
   "outputs": [],
   "source": [
    "X.LWG_SUM_BEFORE_PG.head()"
   ]
  },
  {
   "cell_type": "markdown",
   "metadata": {},
   "source": [
    "[Tuning Random Forest Models](https://www.analyticsvidhya.com/blog/2015/06/tuning-random-forest-model/)"
   ]
  },
  {
   "cell_type": "code",
   "execution_count": null,
   "metadata": {
    "collapsed": true
   },
   "outputs": [],
   "source": [
    "print(\"X_train:\", X_train.shape)\n",
    "\n",
    "clf = RandomForestClassifier(n_estimators=50, bootstrap=True, n_jobs=-1, random_state=11251442, class_weight=\"balanced_subsample\")\n",
    "clf = clf.fit(X_train, y_train) \n",
    "\n",
    "selector = SelectFromModel(clf, threshold=\".5*mean\", prefit=True)\n",
    "X_train2 = selector.transform(X_train)\n",
    "X_test2 = selector.transform(X_test)\n",
    "print(\"X_train2:\", X_train2.shape)\n",
    "print(\"X_test2:\", X_test2.shape)"
   ]
  },
  {
   "cell_type": "code",
   "execution_count": null,
   "metadata": {
    "collapsed": true
   },
   "outputs": [],
   "source": [
    "def col_index(df):\n",
    "    return {i: list(df.columns)[i] for i in range(len(df.columns))}\n",
    "\n",
    "ind = col_index(X)"
   ]
  },
  {
   "cell_type": "code",
   "execution_count": null,
   "metadata": {
    "collapsed": true
   },
   "outputs": [],
   "source": [
    "n = X_train2.shape[1]\n",
    "\n",
    "features = list(ind.values())\n",
    "importances = clf.feature_importances_\n",
    "indices = list(np.argsort(importances))[-n:]\n",
    "\n",
    "plt.figure(figsize=(8,26))\n",
    "plt.title('Feature Importances')\n",
    "plt.barh(range(len(indices)), [importances[i] for i in indices], color='#FFCD00', align='center')\n",
    "plt.yticks(range(len(indices)), [features[i] for i in indices]) \n",
    "plt.xlabel('Relative Importance');"
   ]
  },
  {
   "cell_type": "code",
   "execution_count": null,
   "metadata": {
    "collapsed": true
   },
   "outputs": [],
   "source": [
    "top = [ind[i] for i in indices[-n:]]\n",
    "\n",
    "top.reverse()\n",
    "\n",
    "top"
   ]
  },
  {
   "cell_type": "code",
   "execution_count": null,
   "metadata": {
    "collapsed": true
   },
   "outputs": [],
   "source": [
    "# modify the model params/values here for testing\n",
    "\n",
    "rf = RandomForestClassifier(oob_score = True, n_jobs = -1,random_state =11251442, max_features = \"auto\", class_weight=\"balanced_subsample\")\n",
    "\n",
    "param_grid = {\"n_estimators\": [1000, 1500, 2000],\n",
    "              \"max_depth\": [None]\n",
    "             }\n",
    "\n",
    "gs = GridSearchCV(rf, param_grid=param_grid, scoring = 'average_precision', n_jobs=-1)\n",
    "\n",
    "model = gs.fit(X_train2, y_train)"
   ]
  },
  {
   "cell_type": "code",
   "execution_count": null,
   "metadata": {
    "collapsed": true
   },
   "outputs": [],
   "source": [
    "model.cv_results_"
   ]
  },
  {
   "cell_type": "code",
   "execution_count": null,
   "metadata": {
    "collapsed": true
   },
   "outputs": [],
   "source": [
    "final_rf = model.best_estimator_"
   ]
  },
  {
   "cell_type": "code",
   "execution_count": null,
   "metadata": {
    "collapsed": true
   },
   "outputs": [],
   "source": [
    "final_rf = model.best_estimator_\n",
    "\n",
    "final_rf.predict_proba(X_test2)"
   ]
  },
  {
   "cell_type": "code",
   "execution_count": null,
   "metadata": {
    "collapsed": true
   },
   "outputs": [],
   "source": [
    "fpr, tpr, thresholds = roc_curve(y_train, final_rf.predict_proba(X_train2)[:, 1])\n",
    "roc_auc = auc(fpr, tpr)\n",
    "\n",
    "Fpr, Tpr, Thresholds = roc_curve(y_test, final_rf.predict_proba(X_test2)[:, 1])\n",
    "Roc_auc = auc(Fpr, Tpr)\n",
    "\n",
    "plt.figure(figsize=(10,8))\n",
    "lw = 2\n",
    "plt.plot(fpr, tpr, color='darkorange',\n",
    "         lw=lw, label='Train ROC (area = %0.2f)' % roc_auc)\n",
    "plt.plot(fpr, thresholds, color='darkorange', linestyle='-.')\n",
    "plt.plot(Fpr, Tpr, color='gray',\n",
    "         lw=lw, label='Test ROC (area = %0.2f)' % Roc_auc)\n",
    "plt.plot(Fpr, Thresholds, color='gray', linestyle='-.', lw=3)\n",
    "plt.plot([0, 1], [0, 1], color='navy', lw=lw, linestyle='--')\n",
    "plt.xlim([0.0, 1.0])\n",
    "plt.ylim([0.0, 1.05])\n",
    "plt.xlabel('False Positive Rate')\n",
    "plt.ylabel('True Positive Rate')\n",
    "plt.title('Receiver operating characteristic example')\n",
    "plt.legend(loc=\"lower right\")\n",
    "plt.savefig('roc.png')\n",
    "plt.show();\n"
   ]
  },
  {
   "cell_type": "code",
   "execution_count": null,
   "metadata": {
    "collapsed": true
   },
   "outputs": [],
   "source": [
    "n = X_train2.shape[1]\n",
    "\n",
    "features = list(ind.values())\n",
    "importances = clf.feature_importances_\n",
    "indices = list(np.argsort(importances))[-n:]\n",
    "\n",
    "plt.figure(figsize=(8,26))\n",
    "plt.title('Feature Importances')\n",
    "plt.barh(range(len(indices)), [importances[i] for i in indices], color='#FFCD00', align='center')\n",
    "plt.yticks(range(len(indices)), [features[i] for i in indices]) \n",
    "plt.xlabel('Relative Importance');"
   ]
  },
  {
   "cell_type": "code",
   "execution_count": null,
   "metadata": {
    "collapsed": true
   },
   "outputs": [],
   "source": [
    "plt.scatter(final_rf.predict_proba(X_test2)[:, 1], y_test)"
   ]
  },
  {
   "cell_type": "code",
   "execution_count": null,
   "metadata": {
    "collapsed": true
   },
   "outputs": [],
   "source": [
    "fpr, tpr, thresholds = roc_curve(y_train, final_rf.predict_proba(X_train2)[:, 1])\n",
    "roc_auc = auc(fpr, tpr)\n",
    "\n",
    "Fpr, Tpr, Thresholds = roc_curve(y_test, final_rf.predict_proba(X_test2)[:, 1])\n",
    "Roc_auc = auc(Fpr, Tpr)\n",
    "\n",
    "plt.figure(figsize=(10,8))\n",
    "lw = 2\n",
    "plt.plot(fpr, tpr, color='darkorange',\n",
    "         lw=lw, label='Train ROC (area = %0.2f)' % roc_auc)\n",
    "plt.plot(fpr, thresholds, color='darkorange', linestyle='-.')\n",
    "plt.plot(Fpr, Tpr, color='gray',\n",
    "         lw=lw, label='Test ROC (area = %0.2f)' % Roc_auc)\n",
    "plt.plot(Fpr, Thresholds, color='gray', linestyle='-.', lw=3)\n",
    "plt.plot([0, 1], [0, 1], color='navy', lw=lw, linestyle='--')\n",
    "plt.xlim([0.0, 1.0])\n",
    "plt.ylim([0.0, 1.05])\n",
    "plt.xlabel('False Positive Rate')\n",
    "plt.ylabel('True Positive Rate')\n",
    "plt.title('Receiver operating characteristic example')\n",
    "plt.legend(loc=\"lower right\")\n",
    "plt.savefig('roc.png')\n",
    "plt.show();\n"
   ]
  },
  {
   "cell_type": "code",
   "execution_count": null,
   "metadata": {
    "collapsed": true,
    "scrolled": true
   },
   "outputs": [],
   "source": [
    "nope = X[y == 0]\n",
    "\n",
    "X2 = selector.transform(nope)\n",
    "\n",
    "#col = ['ConstituentID', 'ConstituentAge', \"SCORE\"] +  cols\n",
    "\n",
    "nope = nope.assign(SCORE = (final_rf.predict_proba(X2)[:,1]))\n",
    "\n",
    "#nope.loc[:, col].sort_values(by=\"SCORE\", ascending=False).head(50)\n",
    "\n",
    "nope.sort_values(by=\"SCORE\", ascending=False).head()"
   ]
  },
  {
   "cell_type": "code",
   "execution_count": null,
   "metadata": {
    "collapsed": true
   },
   "outputs": [],
   "source": [
    "#set series to_frame to enable merge\n",
    "\n",
    "nope = pd.merge(nope, df.loc[df.ISDECEASED==0,\"CONSTITUENTSYSTEMID\"].to_frame(), how=\"inner\", left_index=True, right_index=True )\n",
    "nope.head(50)"
   ]
  },
  {
   "cell_type": "code",
   "execution_count": null,
   "metadata": {
    "collapsed": true
   },
   "outputs": [],
   "source": [
    "nope.sort_values(by=\"SCORE\", ascending=False).head(100).to_clipboard()"
   ]
  },
  {
   "cell_type": "code",
   "execution_count": null,
   "metadata": {
    "collapsed": true
   },
   "outputs": [],
   "source": [
    "nope.loc[:, ['LWG_GIFTYEARSCOUNT_BEFORE_PG',\n",
    "          'RESIDENCE_COUNT_EVER',\n",
    "          'LWG_CONSECUTIVE_PRIOR_PG',\n",
    "          'NON_LWG_CONSECUTIVE_PRIOR_PG',\n",
    "          'NON_LWG_GIFTYEARSCOUNT_PRIOR_PG',\n",
    "          'LWG_SUM_BEFORE_PG',\n",
    "          'NON_LWG_SUM_BEFORE_PG',\n",
    "          'PRE_PG_YEARS_WITH_CONTACT_REPORT',\n",
    "          'INVOLVEMENT_COUNT',\n",
    "          'INVOLVEMENT_TYPE_COUNT']] = \\\n",
    "scaler.inverse_transform(nope.loc[:, ['LWG_GIFTYEARSCOUNT_BEFORE_PG',\n",
    "          'RESIDENCE_COUNT_EVER',\n",
    "          'LWG_CONSECUTIVE_PRIOR_PG',\n",
    "          'NON_LWG_CONSECUTIVE_PRIOR_PG',\n",
    "          'NON_LWG_GIFTYEARSCOUNT_PRIOR_PG',\n",
    "          'LWG_SUM_BEFORE_PG',\n",
    "          'NON_LWG_SUM_BEFORE_PG',\n",
    "          'PRE_PG_YEARS_WITH_CONTACT_REPORT',\n",
    "          'INVOLVEMENT_COUNT',\n",
    "          'INVOLVEMENT_TYPE_COUNT']])"
   ]
  },
  {
   "cell_type": "code",
   "execution_count": null,
   "metadata": {
    "collapsed": true
   },
   "outputs": [],
   "source": [
    "nope = pd.merge(nope, app, how='inner', on='CONSTITUENTSYSTEMID')"
   ]
  },
  {
   "cell_type": "code",
   "execution_count": null,
   "metadata": {
    "collapsed": true
   },
   "outputs": [],
   "source": [
    "nope.sort_values(by=\"SCORE\", ascending=False).head(100).to_clipboard()"
   ]
  },
  {
   "cell_type": "code",
   "execution_count": null,
   "metadata": {
    "collapsed": true
   },
   "outputs": [],
   "source": [
    "nope.head()"
   ]
  },
  {
   "cell_type": "code",
   "execution_count": null,
   "metadata": {
    "collapsed": true
   },
   "outputs": [],
   "source": [
    "y_test.describe()"
   ]
  },
  {
   "cell_type": "code",
   "execution_count": null,
   "metadata": {
    "collapsed": true
   },
   "outputs": [],
   "source": [
    "nope.head()"
   ]
  },
  {
   "cell_type": "code",
   "execution_count": null,
   "metadata": {
    "collapsed": true
   },
   "outputs": [],
   "source": [
    "y_test.head()"
   ]
  },
  {
   "cell_type": "code",
   "execution_count": null,
   "metadata": {
    "collapsed": true
   },
   "outputs": [],
   "source": [
    "clf.predict?\n"
   ]
  },
  {
   "cell_type": "code",
   "execution_count": null,
   "metadata": {
    "collapsed": true
   },
   "outputs": [],
   "source": [
    "y_train.describe()"
   ]
  },
  {
   "cell_type": "code",
   "execution_count": null,
   "metadata": {
    "collapsed": true
   },
   "outputs": [],
   "source": [
    "nope.head()"
   ]
  },
  {
   "cell_type": "code",
   "execution_count": null,
   "metadata": {
    "collapsed": true
   },
   "outputs": [],
   "source": [
    "# create objects to use to create a confusion matrix\n",
    "# y_test = y_true y_pred = clf.predict_proba(X_test)"
   ]
  },
  {
   "cell_type": "code",
   "execution_count": null,
   "metadata": {
    "collapsed": true
   },
   "outputs": [],
   "source": [
    "pred = clf.predict_proba(X_test)\n"
   ]
  },
  {
   "cell_type": "code",
   "execution_count": null,
   "metadata": {
    "collapsed": true
   },
   "outputs": [],
   "source": [
    "pred"
   ]
  },
  {
   "cell_type": "code",
   "execution_count": null,
   "metadata": {
    "collapsed": true
   },
   "outputs": [],
   "source": [
    "# create a function to indicate whether column 1 in pred is > .5"
   ]
  },
  {
   "cell_type": "code",
   "execution_count": null,
   "metadata": {
    "collapsed": true
   },
   "outputs": [],
   "source": [
    "def threshold (predict):\n",
    "    if predict >= .5 :\n",
    "        return 1 \n",
    "    else:\n",
    "        return 0"
   ]
  },
  {
   "cell_type": "code",
   "execution_count": null,
   "metadata": {
    "collapsed": true
   },
   "outputs": [],
   "source": [
    "d = []\n",
    "\n",
    "for i in range(pred.shape[0]):\n",
    "    if pred[i, 1] >= .5:\n",
    "        d.append((i, 0, pred[i, 1]))\n",
    "    else:\n",
    "        d.append((i,0,pred[i, 1]))\n",
    "d[:10]       "
   ]
  },
  {
   "cell_type": "code",
   "execution_count": null,
   "metadata": {
    "collapsed": true
   },
   "outputs": [],
   "source": [
    "np.vectorize?"
   ]
  },
  {
   "cell_type": "code",
   "execution_count": null,
   "metadata": {
    "collapsed": true
   },
   "outputs": [],
   "source": [
    "np.apply_along_axis(threshold, 1, pred[:,1].reshape(-1,1))"
   ]
  },
  {
   "cell_type": "code",
   "execution_count": null,
   "metadata": {
    "collapsed": true
   },
   "outputs": [],
   "source": [
    "pred[:, 1].shape"
   ]
  },
  {
   "cell_type": "code",
   "execution_count": null,
   "metadata": {
    "collapsed": true
   },
   "outputs": [],
   "source": [
    "pred[:, 1].reshape"
   ]
  },
  {
   "cell_type": "code",
   "execution_count": null,
   "metadata": {
    "collapsed": true
   },
   "outputs": [],
   "source": [
    "pred[:, 1].reshape"
   ]
  },
  {
   "cell_type": "code",
   "execution_count": null,
   "metadata": {
    "collapsed": true
   },
   "outputs": [],
   "source": [
    "thresh = np.vectorize(threshold)"
   ]
  },
  {
   "cell_type": "code",
   "execution_count": null,
   "metadata": {
    "collapsed": true
   },
   "outputs": [],
   "source": [
    "thresh(pred[:, 1]).sum()"
   ]
  },
  {
   "cell_type": "code",
   "execution_count": null,
   "metadata": {
    "collapsed": true
   },
   "outputs": [],
   "source": [
    "confusion_matrix(y_test,thresh(pred[:, 1]))"
   ]
  },
  {
   "cell_type": "code",
   "execution_count": null,
   "metadata": {
    "collapsed": true
   },
   "outputs": [],
   "source": []
  }
 ],
 "metadata": {
  "kernelspec": {
   "display_name": "Python 3",
   "language": "python",
   "name": "python3"
  },
  "language_info": {
   "codemirror_mode": {
    "name": "ipython",
    "version": 3
   },
   "file_extension": ".py",
   "mimetype": "text/x-python",
   "name": "python",
   "nbconvert_exporter": "python",
   "pygments_lexer": "ipython3",
   "version": "3.6.1"
  }
 },
 "nbformat": 4,
 "nbformat_minor": 2
}
